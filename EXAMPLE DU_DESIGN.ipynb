{
 "cells": [
  {
   "cell_type": "code",
   "execution_count": null,
   "metadata": {
    "scrolled": true
   },
   "outputs": [],
   "source": [
    "# Instalando e atualizando as bibliotecas necessárias\n",
    "!pip install pyDOE\n",
    "!pip install -U seaborn"
   ]
  },
  {
   "cell_type": "code",
   "execution_count": 3,
   "metadata": {},
   "outputs": [],
   "source": [
    "# Importando RASD Toolbox\n",
    "from RASD_TOOLBOX import *\n",
    "# Importando Numpy toolbox\n",
    "import numpy as np\n",
    "#from VIGA_METALICA_VERIFICA import *"
   ]
  },
  {
   "cell_type": "code",
   "execution_count": 4,
   "metadata": {},
   "outputs": [],
   "source": [
    "PX = ['NORMAL', 500, 100]\n",
    "PY = ['NORMAL', 1000, 100]\n",
    "PZ = ['NORMAL', 3, 0.3]\n",
    "POP = [1000]\n",
    "\n",
    "#POP = np.arange(10,1000000, 10000).tolist() # (x,y,Z); x=pop inicial; y=pop final; z=variacao pop\n",
    "\n",
    "SETUP = {'N_REP': len(POP),\n",
    "        'POP': POP,\n",
    "        'N_G': 2,\n",
    "        'D': 3,\n",
    "        'VARS': [PX, PY, PZ],\n",
    "        'MODEL': 'MCS'}"
   ]
  },
  {
   "cell_type": "code",
   "execution_count": 5,
   "metadata": {},
   "outputs": [],
   "source": [
    "def OBJ(X):\n",
    "    P_X = X[0]\n",
    "    P_Y = X[1]\n",
    "    P_Z = X[2]\n",
    "    \n",
    "    D_0 = 3\n",
    "    L = 100\n",
    "    E = 30 * 10 ** 6\n",
    "    W = 2\n",
    "    T = 4\n",
    "\n",
    "    # STATE LIMIT FUNCTION\n",
    "    \n",
    "    R_0 = D_0\n",
    "    S_0 = (4 * L ** 3 / (E * W * T)) * (((P_Y / T ** 2) ** 2  + (P_X / W ** 2) ** 2) ** 0.5)\n",
    "    G_0 = - R_0 + S_0\n",
    "\n",
    "    R_1 = P_Z * 1.10\n",
    "    S_1 = ((4 * L ** 3 / (E * W * T)) * (((P_Y / T ** 2) ** 2  + (P_X / W ** 2) ** 2) ** 0.5)) * 1.05\n",
    "    G_1 = - R_1 + S_1\n",
    "\n",
    "    R = [R_0, R_1] \n",
    "    S = [S_0, S_1] \n",
    "    G = [G_0, G_1]\n",
    "\n",
    "\n",
    "    return R, S, G"
   ]
  },
  {
   "cell_type": "code",
   "execution_count": 6,
   "metadata": {},
   "outputs": [],
   "source": [
    "RESULTS_TEST = RASD_STOCHASTIC(SETUP, OBJ)"
   ]
  },
  {
   "cell_type": "code",
   "execution_count": 27,
   "metadata": {},
   "outputs": [
    {
     "data": {
      "text/html": [
       "<div>\n",
       "<style scoped>\n",
       "    .dataframe tbody tr th:only-of-type {\n",
       "        vertical-align: middle;\n",
       "    }\n",
       "\n",
       "    .dataframe tbody tr th {\n",
       "        vertical-align: top;\n",
       "    }\n",
       "\n",
       "    .dataframe thead th {\n",
       "        text-align: right;\n",
       "    }\n",
       "</style>\n",
       "<table border=\"1\" class=\"dataframe\">\n",
       "  <thead>\n",
       "    <tr style=\"text-align: right;\">\n",
       "      <th></th>\n",
       "      <th>X_0</th>\n",
       "      <th>X_1</th>\n",
       "      <th>X_2</th>\n",
       "      <th>R_0</th>\n",
       "      <th>R_1</th>\n",
       "      <th>S_0</th>\n",
       "      <th>S_1</th>\n",
       "      <th>G_0</th>\n",
       "      <th>G_1</th>\n",
       "      <th>I_0</th>\n",
       "      <th>I_1</th>\n",
       "    </tr>\n",
       "  </thead>\n",
       "  <tbody>\n",
       "    <tr>\n",
       "      <th>0</th>\n",
       "      <td>442.181794</td>\n",
       "      <td>1092.153932</td>\n",
       "      <td>2.812326</td>\n",
       "      <td>3.0</td>\n",
       "      <td>3.093559</td>\n",
       "      <td>2.165363</td>\n",
       "      <td>2.273631</td>\n",
       "      <td>-0.834637</td>\n",
       "      <td>-0.819928</td>\n",
       "      <td>0.0</td>\n",
       "      <td>0.0</td>\n",
       "    </tr>\n",
       "    <tr>\n",
       "      <th>1</th>\n",
       "      <td>407.743501</td>\n",
       "      <td>1156.531174</td>\n",
       "      <td>3.122736</td>\n",
       "      <td>3.0</td>\n",
       "      <td>3.435010</td>\n",
       "      <td>2.082719</td>\n",
       "      <td>2.186855</td>\n",
       "      <td>-0.917281</td>\n",
       "      <td>-1.248155</td>\n",
       "      <td>0.0</td>\n",
       "      <td>0.0</td>\n",
       "    </tr>\n",
       "    <tr>\n",
       "      <th>2</th>\n",
       "      <td>678.433720</td>\n",
       "      <td>997.714816</td>\n",
       "      <td>3.191136</td>\n",
       "      <td>3.0</td>\n",
       "      <td>3.510250</td>\n",
       "      <td>3.011803</td>\n",
       "      <td>3.162393</td>\n",
       "      <td>0.011803</td>\n",
       "      <td>-0.347857</td>\n",
       "      <td>1.0</td>\n",
       "      <td>0.0</td>\n",
       "    </tr>\n",
       "    <tr>\n",
       "      <th>3</th>\n",
       "      <td>597.626466</td>\n",
       "      <td>777.714830</td>\n",
       "      <td>2.955418</td>\n",
       "      <td>3.0</td>\n",
       "      <td>3.250960</td>\n",
       "      <td>2.618577</td>\n",
       "      <td>2.749505</td>\n",
       "      <td>-0.381423</td>\n",
       "      <td>-0.501454</td>\n",
       "      <td>0.0</td>\n",
       "      <td>0.0</td>\n",
       "    </tr>\n",
       "    <tr>\n",
       "      <th>4</th>\n",
       "      <td>647.501571</td>\n",
       "      <td>845.187119</td>\n",
       "      <td>2.634525</td>\n",
       "      <td>3.0</td>\n",
       "      <td>2.897978</td>\n",
       "      <td>2.837939</td>\n",
       "      <td>2.979836</td>\n",
       "      <td>-0.162061</td>\n",
       "      <td>0.081859</td>\n",
       "      <td>0.0</td>\n",
       "      <td>1.0</td>\n",
       "    </tr>\n",
       "    <tr>\n",
       "      <th>5</th>\n",
       "      <td>556.882274</td>\n",
       "      <td>901.919499</td>\n",
       "      <td>3.283426</td>\n",
       "      <td>3.0</td>\n",
       "      <td>3.611769</td>\n",
       "      <td>2.503328</td>\n",
       "      <td>2.628494</td>\n",
       "      <td>-0.496672</td>\n",
       "      <td>-0.983275</td>\n",
       "      <td>0.0</td>\n",
       "      <td>0.0</td>\n",
       "    </tr>\n",
       "    <tr>\n",
       "      <th>6</th>\n",
       "      <td>424.838334</td>\n",
       "      <td>920.151690</td>\n",
       "      <td>3.371057</td>\n",
       "      <td>3.0</td>\n",
       "      <td>3.708163</td>\n",
       "      <td>2.013001</td>\n",
       "      <td>2.113651</td>\n",
       "      <td>-0.986999</td>\n",
       "      <td>-1.594513</td>\n",
       "      <td>0.0</td>\n",
       "      <td>0.0</td>\n",
       "    </tr>\n",
       "    <tr>\n",
       "      <th>7</th>\n",
       "      <td>513.005280</td>\n",
       "      <td>952.549852</td>\n",
       "      <td>3.350913</td>\n",
       "      <td>3.0</td>\n",
       "      <td>3.686005</td>\n",
       "      <td>2.356595</td>\n",
       "      <td>2.474425</td>\n",
       "      <td>-0.643405</td>\n",
       "      <td>-1.211580</td>\n",
       "      <td>0.0</td>\n",
       "      <td>0.0</td>\n",
       "    </tr>\n",
       "    <tr>\n",
       "      <th>8</th>\n",
       "      <td>635.123123</td>\n",
       "      <td>1067.527139</td>\n",
       "      <td>3.164868</td>\n",
       "      <td>3.0</td>\n",
       "      <td>3.481355</td>\n",
       "      <td>2.870489</td>\n",
       "      <td>3.014014</td>\n",
       "      <td>-0.129511</td>\n",
       "      <td>-0.467341</td>\n",
       "      <td>0.0</td>\n",
       "      <td>0.0</td>\n",
       "    </tr>\n",
       "    <tr>\n",
       "      <th>9</th>\n",
       "      <td>544.777917</td>\n",
       "      <td>979.110466</td>\n",
       "      <td>2.696416</td>\n",
       "      <td>3.0</td>\n",
       "      <td>2.966058</td>\n",
       "      <td>2.488512</td>\n",
       "      <td>2.612938</td>\n",
       "      <td>-0.511488</td>\n",
       "      <td>-0.353120</td>\n",
       "      <td>0.0</td>\n",
       "      <td>0.0</td>\n",
       "    </tr>\n",
       "  </tbody>\n",
       "</table>\n",
       "</div>"
      ],
      "text/plain": [
       "          X_0          X_1       X_2  R_0       R_1       S_0       S_1  \\\n",
       "0  442.181794  1092.153932  2.812326  3.0  3.093559  2.165363  2.273631   \n",
       "1  407.743501  1156.531174  3.122736  3.0  3.435010  2.082719  2.186855   \n",
       "2  678.433720   997.714816  3.191136  3.0  3.510250  3.011803  3.162393   \n",
       "3  597.626466   777.714830  2.955418  3.0  3.250960  2.618577  2.749505   \n",
       "4  647.501571   845.187119  2.634525  3.0  2.897978  2.837939  2.979836   \n",
       "5  556.882274   901.919499  3.283426  3.0  3.611769  2.503328  2.628494   \n",
       "6  424.838334   920.151690  3.371057  3.0  3.708163  2.013001  2.113651   \n",
       "7  513.005280   952.549852  3.350913  3.0  3.686005  2.356595  2.474425   \n",
       "8  635.123123  1067.527139  3.164868  3.0  3.481355  2.870489  3.014014   \n",
       "9  544.777917   979.110466  2.696416  3.0  2.966058  2.488512  2.612938   \n",
       "\n",
       "        G_0       G_1  I_0  I_1  \n",
       "0 -0.834637 -0.819928  0.0  0.0  \n",
       "1 -0.917281 -1.248155  0.0  0.0  \n",
       "2  0.011803 -0.347857  1.0  0.0  \n",
       "3 -0.381423 -0.501454  0.0  0.0  \n",
       "4 -0.162061  0.081859  0.0  1.0  \n",
       "5 -0.496672 -0.983275  0.0  0.0  \n",
       "6 -0.986999 -1.594513  0.0  0.0  \n",
       "7 -0.643405 -1.211580  0.0  0.0  \n",
       "8 -0.129511 -0.467341  0.0  0.0  \n",
       "9 -0.511488 -0.353120  0.0  0.0  "
      ]
     },
     "execution_count": 27,
     "metadata": {},
     "output_type": "execute_result"
    }
   ],
   "source": [
    "RESULTS_TEST[0]['TOTAL RESULTS']"
   ]
  },
  {
   "cell_type": "code",
   "execution_count": 17,
   "metadata": {},
   "outputs": [],
   "source": [
    "DADOS = RESULTS_TEST[0]['TOTAL RESULTS']"
   ]
  },
  {
   "cell_type": "code",
   "execution_count": 7,
   "metadata": {},
   "outputs": [],
   "source": [
    "DADOS = RESULTS_TEST[len(POP)-1]['TOTAL RESULTS']"
   ]
  },
  {
   "cell_type": "code",
   "execution_count": null,
   "metadata": {},
   "outputs": [],
   "source": [
    "OPCOES_GRAFICAS = {'NAME': 'WANDER',\n",
    "                'WIDTH': 0.40, \n",
    "                'HEIGHT': 0.20, \n",
    "                'X AXIS SIZE': 20,\n",
    "                'Y AXIS SIZE': 20,\n",
    "                'AXISES COLOR': '#000000',\n",
    "                'X AXIS LABEL': '$x_0$ - $P_X (lb)$',\n",
    "                'LABELS SIZE': 16,\n",
    "                'LABELS COLOR': '#000000',  \n",
    "                'CHART COLOR': '#FEB625',\n",
    "                'KDE': False,\n",
    "                'DPI': 600, \n",
    "                'BINS' : 20,\n",
    "                'EXTENSION': '.svg'}\n",
    "# RESULTS X_0 VARIABLE\n",
    "OPCOES_DADOS = {'DATASET': DADOS, 'COLUMN': 'X_0'}      \n",
    "# CALL PLOT\n",
    "RASD_PLOT_1(OPCOES_DADOS, OPCOES_GRAFICAS)"
   ]
  },
  {
   "cell_type": "code",
   "execution_count": 9,
   "metadata": {},
   "outputs": [
    {
     "data": {
      "image/png": "[encoded data removed]",
      "text/plain": [
       "<Figure size 850.394x425.197 with 1 Axes>"
      ]
     },
     "metadata": {},
     "output_type": "display_data"
    }
   ],
   "source": [
    "OPCOES_GRAFICAS = {'NAME': 'WANDER',\n",
    "                'EXTENSION': '.svg',\n",
    "                'DPI': 600,\n",
    "                'WIDTH': 0.300, \n",
    "                'HEIGHT': 0.150,              \n",
    "                'X DATA': 'S_0',\n",
    "                'Y DATA': 'R_0',\n",
    "                'X AXIS SIZE': 16,\n",
    "                'Y AXIS SIZE': 16,\n",
    "                'AXISES COLOR': '#000000',\n",
    "                'X AXIS LABEL': '$S_0$',\n",
    "                'Y AXIS LABEL': '$R_0$',\n",
    "                'LABELS SIZE': 18,\n",
    "                'LABELS COLOR': '#000000',\n",
    "                'LOC LEGEND': 'lower right',\n",
    "                'TITLE LEGEND': 'Failure index ($I$):'}\n",
    "# RESULTS\n",
    "OPCOES_DADOS = {'DATASET': DADOS, 'X DATA': 'S_0', 'Y DATA': 'R_0', 'HUE VALUE': 'I_0'}    \n",
    "# CALL PLOT\n",
    "RASD_PLOT_2(OPCOES_DADOS, OPCOES_GRAFICAS)"
   ]
  },
  {
   "cell_type": "code",
   "execution_count": 10,
   "metadata": {
    "scrolled": true
   },
   "outputs": [
    {
     "data": {
      "image/png": "[encoded data removed]",
      "text/plain": [
       "<Figure size 566.929x283.465 with 2 Axes>"
      ]
     },
     "metadata": {},
     "output_type": "display_data"
    }
   ],
   "source": [
    "OPCOES_GRAFICAS = {'NAME': 'WANDER',\n",
    "                'EXTENSION': '.svg',\n",
    "                'DPI': 600,\n",
    "                'WIDTH': 0.20, \n",
    "                'HEIGHT': 0.10,              \n",
    "                'X DATA': 'S_0',\n",
    "                'Y DATA': 'R_0',\n",
    "                'X AXIS SIZE': 20,\n",
    "                'Y AXIS SIZE': 20,\n",
    "                'AXISES COLOR': '#000000',\n",
    "                'X AXIS LABEL': '$S_0$',\n",
    "                'Y AXIS LABEL': '$R_0$',\n",
    "                'LABELS SIZE': 16,\n",
    "                'LABELS COLOR': '#000000',\n",
    "                'G VALUE': 'G_0',\n",
    "                'TRANSPARENCY': 0.8,\n",
    "                'COLOR MAP': 'viridis'}\n",
    "\n",
    "\n",
    "# RESULTS\n",
    "OPCOES_DADOS = {'DATASET': DADOS, 'X DATA': 'S_0', 'Y DATA': 'R_0', 'G VALUE': 'G_0'}       \n",
    "\n",
    "# CALL PLOT\n",
    "RASD_PLOT_3(OPCOES_DADOS, OPCOES_GRAFICAS)"
   ]
  },
  {
   "cell_type": "code",
   "execution_count": 12,
   "metadata": {},
   "outputs": [
    {
     "data": {
      "text/plain": [
       "(array([ 1.,  0.,  1.,  0.,  1.,  3.,  4.,  2.,  4.,  4.,  9., 13., 15.,\n",
       "        20., 18., 21., 20., 31., 29., 36., 44., 42., 50., 52., 50., 53.,\n",
       "        57., 41., 40., 30., 39., 36., 46., 26., 22., 26., 35., 15., 16.,\n",
       "        16.,  6.,  6.,  7.,  3.,  3.,  0.,  3.,  1.,  2.,  1.]),\n",
       " array([1.1645627 , 1.21097191, 1.25738112, 1.30379032, 1.35019953,\n",
       "        1.39660874, 1.44301794, 1.48942715, 1.53583635, 1.58224556,\n",
       "        1.62865477, 1.67506397, 1.72147318, 1.76788239, 1.81429159,\n",
       "        1.8607008 , 1.90711   , 1.95351921, 1.99992842, 2.04633762,\n",
       "        2.09274683, 2.13915604, 2.18556524, 2.23197445, 2.27838366,\n",
       "        2.32479286, 2.37120207, 2.41761127, 2.46402048, 2.51042969,\n",
       "        2.55683889, 2.6032481 , 2.64965731, 2.69606651, 2.74247572,\n",
       "        2.78888492, 2.83529413, 2.88170334, 2.92811254, 2.97452175,\n",
       "        3.02093096, 3.06734016, 3.11374937, 3.16015857, 3.20656778,\n",
       "        3.25297699, 3.29938619, 3.3457954 , 3.39220461, 3.43861381,\n",
       "        3.48502302]),\n",
       " <BarContainer object of 50 artists>)"
      ]
     },
     "execution_count": 12,
     "metadata": {},
     "output_type": "execute_result"
    },
    {
     "data": {
      "image/png": "[encoded data removed]",
      "text/plain": [
       "<Figure size 432x288 with 1 Axes>"
      ]
     },
     "metadata": {},
     "output_type": "display_data"
    }
   ],
   "source": [
    "plt.hist(RESULTS_TEST[0]['TOTAL RESULTS']['R_0'], bins=50, label='a', alpha=0.5)\n",
    "plt.hist(RESULTS_TEST[0]['TOTAL RESULTS']['S_0'], bins=50, label='b', alpha=0.5)"
   ]
  },
  {
   "cell_type": "code",
   "execution_count": 11,
   "metadata": {},
   "outputs": [
    {
     "data": {
      "image/png": "[encoded data removed]",
      "text/plain": [
       "<Figure size 566.929x283.465 with 1 Axes>"
      ]
     },
     "metadata": {},
     "output_type": "display_data"
    }
   ],
   "source": [
    "OPCOES_GRAFICAS = {'NAME': 'WANDER',\n",
    "                    'EXTENSION': '.svg',\n",
    "                    'DPI': 600,\n",
    "                    'WIDTH': 0.20,\n",
    "                    'HEIGHT': 0.10,\n",
    "                    'X DATA': 'S_0',\n",
    "                    'Y DATA': 'R_0',\n",
    "                    'X AXIS SIZE': 20,\n",
    "                    'Y AXIS SIZE': 20,\n",
    "                    'AXISES COLOR': '#000000',\n",
    "                    'X AXIS LABEL': '$G_0 + G_0$',\n",
    "                    'Y AXIS LABEL': '$SOMATÓRIO$',\n",
    "                    'LABELS SIZE': 16,\n",
    "                    'LABELS COLOR': '#000000',\n",
    "                    'C VALUE': 'G_0',\n",
    "                    'TRANSPARENCY': 0.8,\n",
    "                    'COLOR MAP': 'viridis',\n",
    "                    'BINS': '50',\n",
    "                    'ALPHA': '0.5'}\n",
    "\n",
    "# RESULTS\n",
    "OPCOES_DADOS = {'DATASET': DADOS, 'X DATA': 'S_0', 'Y DATA': 'R_0', 'G VALUE': 'G_0'}       \n",
    "\n",
    "# CALL PLOT\n",
    "RASD_PLOT_4(OPCOES_DADOS, OPCOES_GRAFICAS)"
   ]
  },
  {
   "cell_type": "code",
   "execution_count": 30,
   "metadata": {},
   "outputs": [
    {
     "data": {
      "image/png": "[encoded data removed]",
      "text/plain": [
       "<Figure size 566.929x283.465 with 1 Axes>"
      ]
     },
     "metadata": {
      "needs_background": "light"
     },
     "output_type": "display_data"
    }
   ],
   "source": [
    "OPCOES_GRAFICAS = {'NAME': 'WANDER',\n",
    "                    'EXTENSION': '.svg',\n",
    "                    'DPI': 600,\n",
    "                    'WIDTH': 0.20,\n",
    "                    'HEIGHT': 0.10,\n",
    "                    'X AXIS SIZE': 20,\n",
    "                    'Y AXIS SIZE': 20,\n",
    "                    'AXISES COLOR': '#000000',\n",
    "                    'X AXIS LABEL': 'Número de Simulações (ns)',\n",
    "                    'Y AXIS LABEL': 'Probabilidade de Falha',\n",
    "                    'LABELS SIZE': 16,\n",
    "                    'LABELS COLOR': '#000000',\n",
    "                    'CHART COLOR': 'black',\n",
    "                    'POPULATION' : POP,\n",
    "                    'TYPE' : 'pf'}\n",
    "\n",
    "# RESULTS\n",
    "OPCOES_DADOS = {'DATASET': RESULTS_TEST}       \n",
    "\n",
    "# CALL PLOT\n",
    "RASD_PLOT_5(OPCOES_DADOS, OPCOES_GRAFICAS)"
   ]
  },
  {
   "cell_type": "code",
   "execution_count": 31,
   "metadata": {},
   "outputs": [
    {
     "data": {
      "image/png": "[encoded data removed]",
      "text/plain": [
       "<Figure size 566.929x283.465 with 1 Axes>"
      ]
     },
     "metadata": {
      "needs_background": "light"
     },
     "output_type": "display_data"
    }
   ],
   "source": [
    "OPCOES_GRAFICAS = {'NAME': 'WANDER',\n",
    "                    'EXTENSION': '.svg',\n",
    "                    'DPI': 600,\n",
    "                    'WIDTH': 0.20,\n",
    "                    'HEIGHT': 0.10,\n",
    "                    'X AXIS SIZE': 20,\n",
    "                    'Y AXIS SIZE': 20,\n",
    "                    'AXISES COLOR': '#000000',\n",
    "                    'X AXIS LABEL': 'Número de Simulações (ns)',\n",
    "                    'Y AXIS LABEL': 'Beta',\n",
    "                    'LABELS SIZE': 16,\n",
    "                    'LABELS COLOR': '#000000',\n",
    "                    'CHART COLOR': 'black',\n",
    "                    'POPULATION' : POP,\n",
    "                    'TYPE' : 'beta'}\n",
    "\n",
    "# RESULTS\n",
    "OPCOES_DADOS = {'DATASET': RESULTS_TEST}       \n",
    "\n",
    "# CALL PLOT\n",
    "RASD_PLOT_5(OPCOES_DADOS, OPCOES_GRAFICAS)"
   ]
  },
  {
   "cell_type": "code",
   "execution_count": 22,
   "metadata": {},
   "outputs": [
    {
     "data": {
      "text/plain": [
       "{'TOTAL RESULTS':              X_0          X_1       X_2  R_0       R_1       S_0       S_1  \\\n",
       " 0     611.218234   892.825195  2.875765  3.0  3.163342  2.711245  2.846807   \n",
       " 1     355.305199   992.668359  3.283063  3.0  3.611369  1.805800  1.896090   \n",
       " 2     405.361106   827.047098  2.706089  3.0  2.976698  1.896030  1.990832   \n",
       " 3     625.513291   784.412389  2.982740  3.0  3.281014  2.731387  2.867956   \n",
       " 4     512.564573   986.201319  2.371332  3.0  2.608465  2.369912  2.488408   \n",
       " ...          ...          ...       ...  ...       ...       ...       ...   \n",
       " 1995  489.641663   885.975774  3.177727  3.0  3.495499  2.239205  2.351165   \n",
       " 1996  492.798056  1064.804852  2.817326  3.0  3.099058  2.333754  2.450441   \n",
       " 1997  438.083706  1022.472922  2.714469  3.0  2.985915  2.113359  2.219027   \n",
       " 1998  382.784345   863.429264  3.049838  3.0  3.354822  1.831051  1.922603   \n",
       " 1999  593.167083   967.480303  2.510106  3.0  2.761117  2.669101  2.802557   \n",
       " \n",
       "            G_0       G_1  I_0  I_1  \n",
       " 0    -0.288755 -0.316535  0.0  0.0  \n",
       " 1    -1.194200 -1.715279  0.0  0.0  \n",
       " 2    -1.103970 -0.985866  0.0  0.0  \n",
       " 3    -0.268613 -0.413058  0.0  0.0  \n",
       " 4    -0.630088 -0.120057  0.0  0.0  \n",
       " ...        ...       ...  ...  ...  \n",
       " 1995 -0.760795 -1.144335  0.0  0.0  \n",
       " 1996 -0.666246 -0.648617  0.0  0.0  \n",
       " 1997 -0.886641 -0.766889  0.0  0.0  \n",
       " 1998 -1.168949 -1.432218  0.0  0.0  \n",
       " 1999 -0.330899  0.041440  0.0  1.0  \n",
       " \n",
       " [2000 rows x 11 columns],\n",
       " 'NUMBER OF FAILURES': [79.0, 101.0],\n",
       " 'PROBABILITY OF FAILURE': [0.0395, 0.0505],\n",
       " 'BETA INDEX': [1.757, 1.641]}"
      ]
     },
     "execution_count": 22,
     "metadata": {},
     "output_type": "execute_result"
    }
   ],
   "source": [
    "RESULTS_TEST[2]"
   ]
  }
 ],
 "metadata": {
  "kernelspec": {
   "display_name": "Python 3",
   "language": "python",
   "name": "python3"
  },
  "language_info": {
   "codemirror_mode": {
    "name": "ipython",
    "version": 3
   },
   "file_extension": ".py",
   "mimetype": "text/x-python",
   "name": "python",
   "nbconvert_exporter": "python",
   "pygments_lexer": "ipython3",
   "version": "3.8.8"
  }
 },
 "nbformat": 4,
 "nbformat_minor": 4
}
